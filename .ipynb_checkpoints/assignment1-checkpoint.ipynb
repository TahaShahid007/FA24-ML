{
 "cells": [
  {
   "cell_type": "markdown",
   "id": "80e745f0",
   "metadata": {},
   "source": [
    "## Task 1: Lists, Dictionaries, Tuples"
   ]
  },
  {
   "cell_type": "code",
   "execution_count": 12,
   "id": "368af198-2d0c-48a7-8993-5ec4f407fd93",
   "metadata": {},
   "outputs": [
    {
     "data": {
      "text/plain": [
       "[27, 125, 343, 512, 1728]"
      ]
     },
     "execution_count": 12,
     "metadata": {},
     "output_type": "execute_result"
    }
   ],
   "source": [
    "\"\"\" Task 1: Creaye a list: nums = [3, 5, 7, 8, 12], make another list named ‘cubes’ and append the cubes of the given list ‘nums’\n",
    "in this list and print it.\"\"\"\n",
    "\n",
    "# Declaring a list\n",
    "nums = [3, 5, 7, 8, 12]\n",
    "\n",
    "# Making cubes\n",
    "nums = [x**3 for x in nums]\n",
    "nums"
   ]
  },
  {
   "cell_type": "code",
   "execution_count": 19,
   "id": "2610ea49-6183-44f5-9c90-2a9ec977e1d9",
   "metadata": {},
   "outputs": [
    {
     "data": {
      "text/plain": [
       "{'parrot': 2, 'goat': 4, 'spider': 8, 'crab': 10}"
      ]
     },
     "execution_count": 19,
     "metadata": {},
     "output_type": "execute_result"
    }
   ],
   "source": [
    "\"\"\"\n",
    "Task 2: Create an empty dictionary: dict = {}, add the following data to the dictionary: ‘parrot’: 2, ‘goat’: 4, ‘spider’: 8, ‘crab’:\n",
    "10 as key value pairs.\n",
    "\"\"\"\n",
    "\n",
    "# Declaring empty dict\n",
    "animals_legs = dict()\n",
    "\n",
    "# Defining data dict\n",
    "animals, legs = ['parrot', 'goat', 'spider', 'crab'], [2, 4, 8, 10]\n",
    "\n",
    "# Overwriting animal_legs dict with data\n",
    "animal_legs = dict(zip(animals, legs))\n",
    "animal_legs\n"
   ]
  },
  {
   "cell_type": "code",
   "execution_count": 21,
   "id": "3a9e9df8-d851-4993-b955-3dc56ef53d33",
   "metadata": {},
   "outputs": [
    {
     "name": "stdout",
     "output_type": "stream",
     "text": [
      "animal: parrot has 2 legs\n",
      "animal: goat has 4 legs\n",
      "animal: spider has 8 legs\n",
      "animal: crab has 10 legs\n",
      "Total legs count: 24\n"
     ]
    }
   ],
   "source": [
    "import sys\n",
    "stdout = sys.stdout\n",
    "\n",
    "\"\"\"\n",
    "Task 3: Use the ‘items’ method to loop over the dictionary (dict) and print the animals and their corresponding legs. Sum\n",
    "the legs of each animal, and print the total at the end.\n",
    "\"\"\"\n",
    "\n",
    "# Declaring dict and count\n",
    "animals_legs = {'parrot': 2, 'goat': 4, 'spider': 8, 'crab': 10}\n",
    "count = 0\n",
    "\n",
    "for _ in animals_legs.items():\n",
    "    print(f'animal: {_[0]} has {_[1]} legs')\n",
    "    count += _[1]\n",
    "\n",
    "print(f'Total legs count: {count}')"
   ]
  },
  {
   "cell_type": "code",
   "execution_count": 26,
   "id": "ce38bfbe-1acb-4d97-a071-5746eb6f110f",
   "metadata": {},
   "outputs": [
    {
     "name": "stdout",
     "output_type": "stream",
     "text": [
      "(3, 9, 4, [8, 6])\n"
     ]
    }
   ],
   "source": [
    "\"\"\"\n",
    "Task 4: Create a tuple: A = (3, 9, 4, [5, 6]), change the value in the list from ‘5’ to ‘8’.\n",
    "\"\"\"\n",
    "\n",
    "A = (3, 9, 4, [5, 6])\n",
    "A[-1][0] = 8\n",
    "print(A)\n",
    "\n",
    "\"\"\"\n",
    "Task 5: Delete the tuple A.\n",
    "\"\"\"\n",
    "del(A)"
   ]
  },
  {
   "cell_type": "code",
   "execution_count": 32,
   "id": "1e7f4959-c73a-4858-8e2f-60cde14f6f1c",
   "metadata": {},
   "outputs": [
    {
     "name": "stdout",
     "output_type": "stream",
     "text": [
      "\"p\" occurred 2 times\n",
      "the index of \"l\" in B is: 3\n"
     ]
    }
   ],
   "source": [
    "\"\"\"\n",
    "Task 6: Create another tuple: B = (‘a’, ‘p’, ‘p’, ‘l’, ‘e’), print the number of occurrences of ‘p’ in the tuple.\n",
    "\"\"\"\n",
    "B = ('a', 'p', 'p', 'l', 'e')\n",
    "print(f'\"p\" occurred {B.count(\"p\")} times')\n",
    "\n",
    "\"\"\"\n",
    "Task 7: Print the index of ‘l’ in the tuple.\n",
    "\"\"\"\n",
    "print(f'the index of \"l\" in B is: {B.index(\"l\")}')"
   ]
  },
  {
   "cell_type": "markdown",
   "id": "e74e8213",
   "metadata": {},
   "source": [
    "## Task 2: Numpy"
   ]
  },
  {
   "cell_type": "code",
   "execution_count": 2,
   "id": "b9ce903e",
   "metadata": {},
   "outputs": [
    {
     "data": {
      "text/plain": [
       "array([[ 1,  2,  3,  4],\n",
       "       [ 5,  6,  7,  8],\n",
       "       [ 9, 10, 11, 12]])"
      ]
     },
     "execution_count": 2,
     "metadata": {},
     "output_type": "execute_result"
    }
   ],
   "source": [
    "import numpy as np\n",
    "\"\"\"\n",
    "Task 1: A =\n",
    "1 2 3 4\n",
    "5 6 7 8\n",
    "9 10 11 12\n",
    "z = np.array([1, 0, 1])\n",
    "\n",
    "2.1 Convert matrix A into numpy array\n",
    "\"\"\"\n",
    "# Declaring the matrix\n",
    "A = [[1,2,3,4], [5,6,7,8], [9,10,11,12]]\n",
    "\n",
    "# converting it to np.array\n",
    "A_np = np.array(A)\n",
    "A_np"
   ]
  },
  {
   "cell_type": "code",
   "execution_count": 4,
   "id": "c65a94c5-b4e9-4c0e-a62b-3c42f4a8c0b7",
   "metadata": {},
   "outputs": [
    {
     "data": {
      "text/plain": [
       "array([[1, 2],\n",
       "       [5, 6]])"
      ]
     },
     "execution_count": 4,
     "metadata": {},
     "output_type": "execute_result"
    }
   ],
   "source": [
    "\"\"\"\n",
    "Task 2: Use slicing to pull out the subarray consisting of the first 2 rows and columns 1 and 2. Store it in b which is a numpy\n",
    "array of shape (2, 2).\n",
    "\"\"\"\n",
    "b = A_np[0:2, 0:2]\n",
    "b"
   ]
  },
  {
   "cell_type": "code",
   "execution_count": 10,
   "id": "2f10e021-79e8-4338-830f-ef2414dfb6fb",
   "metadata": {},
   "outputs": [
    {
     "name": "stdout",
     "output_type": "stream",
     "text": [
      "[[0 0 0 0]\n",
      " [0 0 0 0]\n",
      " [0 0 0 0]]\n"
     ]
    },
    {
     "data": {
      "text/plain": [
       "array([[ 2,  3,  4,  5],\n",
       "       [ 7,  8,  9, 10],\n",
       "       [12, 13, 14, 15]])"
      ]
     },
     "execution_count": 10,
     "metadata": {},
     "output_type": "execute_result"
    }
   ],
   "source": [
    "\"\"\"\n",
    "Task 3-4: 2.3 Create an empty matrix ‘C’ with the same shape as ‘A’.\n",
    "2.4 Add the vector z to each column of the matrix ‘A’ with an explicit loop and store it in ‘C’.\n",
    "\"\"\"\n",
    "\n",
    "# Create an empty matrix C with the same shape as A\n",
    "C = np.zeros_like(A)\n",
    "print(C)\n",
    "\n",
    "# Defining a sample vector\n",
    "z = np.array([1, 2, 3])\n",
    "\n",
    "# Loop over each column and add vector z to it\n",
    "for col in range(A_np.shape[1]):\n",
    "    C[:, col] = A_np[:, col] + z\n",
    "\n",
    "C"
   ]
  },
  {
   "cell_type": "code",
   "execution_count": 15,
   "id": "5c9f25d9-7519-41e4-863e-10f4eed0d2e9",
   "metadata": {},
   "outputs": [
    {
     "name": "stdout",
     "output_type": "stream",
     "text": [
      "X + Y = [[ 6  8]\n",
      " [10 12]]\n",
      "\n",
      "X x Y = [[ 5 12]\n",
      " [21 32]]\n",
      "\n",
      "sq. root of Y = [[2.23606798 2.44948974]\n",
      " [2.64575131 2.82842712]]\n",
      "\n",
      "Dot product of X and v = [29 67]\n",
      "\n",
      "sum of columns of X = [4 6]\n",
      "\n"
     ]
    }
   ],
   "source": [
    "\"\"\"\n",
    "Task 5-9\n",
    "\"\"\"\n",
    "# Create the following:\n",
    "X = np.array([[1,2],[3,4]])\n",
    "Y = np.array([[5,6],[7,8]])\n",
    "v = np.array([9,10])\n",
    "\n",
    "# Task 5: Add and print the matrices X and Y.\n",
    "X_add_Y = np.add(X, Y)\n",
    "print(f'X + Y = {X_add_Y}\\n')\n",
    "\n",
    "# Task 6: Multiply and print the matrices X and Y.\n",
    "X_mul_Y = np.multiply(X, Y)\n",
    "print(f'X x Y = {X_mul_Y}\\n')\n",
    "\n",
    "# Task 7: Compute and print the element wise square root of matrix Y.\n",
    "sqrt_Y = np.sqrt(Y)\n",
    "print(f'sq. root of Y = {sqrt_Y}\\n')\n",
    "\n",
    "# Task 8: Compute and print the dot product of the matrix X and vector v.\n",
    "dot_prod = np.dot(X, v)\n",
    "print(f'Dot product of X and v = {dot_prod}\\n')\n",
    "\n",
    "# Task 9: Compute and print the sum of each column of X.\n",
    "x_sum_columns = np.sum(X, axis=0)\n",
    "print(f'sum of columns of X = {x_sum_columns}\\n')\n"
   ]
  },
  {
   "cell_type": "markdown",
   "id": "ef6e807c-75d6-421a-94f7-56089b46a7db",
   "metadata": {},
   "source": [
    "## Task 3 Functions and Loops"
   ]
  },
  {
   "cell_type": "code",
   "execution_count": 19,
   "id": "ba2e1c83-223e-4149-8215-afa3c5c771d0",
   "metadata": {},
   "outputs": [
    {
     "name": "stdout",
     "output_type": "stream",
     "text": [
      "Velocity = 1.667\n"
     ]
    }
   ],
   "source": [
    "\"\"\"\n",
    "Task 1: Create a function ‘Compute’ that takes two arguments, distance and time, and use it to calculate velocity.\n",
    "\"\"\"\n",
    "\n",
    "def compute(distance, time):\n",
    "    # from fourmula 's=vt' i.e. distance = velocity.time we get: velocity = distance/time\n",
    "    velocity = distance/time\n",
    "    print(f\"Velocity = {velocity:.3f}\")\n",
    "    return\n",
    "\n",
    "# Example run\n",
    "compute(distance=100, time=60)"
   ]
  },
  {
   "cell_type": "code",
   "execution_count": 28,
   "id": "13a3026f-10db-4aad-b37d-fe38f1aca53a",
   "metadata": {},
   "outputs": [
    {
     "name": "stdout",
     "output_type": "stream",
     "text": [
      "even numbers till 12: [2, 4, 6, 8, 10, 12]\n",
      "list items multiple: 46080\n"
     ]
    }
   ],
   "source": [
    "import functools\n",
    "\n",
    "\"\"\"\n",
    "Task 2: Make a list named ‘even_num’ that contains all even numbers up till 12. Create a function ‘mult’ that takes the list\n",
    "‘even_num’ as an argument and calculates the products of all entries using a for loop.\n",
    "\"\"\"\n",
    "\n",
    "even_num = [x for x in range(1,13) if x%2 == 0]\n",
    "print(f'even numbers till 12: {even_num}')\n",
    "\n",
    "def mul(lst):\n",
    "    multiple = functools.reduce(lambda x, y: x*y, lst)\n",
    "    print(f'list items multiple: {multiple}')\n",
    "    return\n",
    "\n",
    "# Example run\n",
    "mul(even_num)"
   ]
  },
  {
   "cell_type": "markdown",
   "id": "5ffde312-8856-421f-87dc-475d0a97f52f",
   "metadata": {},
   "source": [
    "## Task 4 Pandas"
   ]
  },
  {
   "cell_type": "code",
   "execution_count": 45,
   "id": "52476722-19ee-4216-8026-43ff8158c251",
   "metadata": {},
   "outputs": [
    {
     "name": "stdout",
     "output_type": "stream",
     "text": [
      "   C1  C2  C3  C4\n",
      "0   1   6   7   7\n",
      "1   2   7   9   5\n",
      "2   3   5   8   2\n",
      "3   5   4   6   8\n",
      "4   5   8   5   8\n",
      "\n",
      "Printing only first 2 rows of df\n",
      "   C1  C2  C3  C4\n",
      "0   1   6   7   7\n",
      "1   2   7   9   5\n",
      "\n",
      "Printing first 2 columns of df\n",
      "   C1  C2\n",
      "0   1   6\n",
      "1   2   7\n",
      "2   3   5\n",
      "3   5   4\n",
      "4   5   8\n",
      "\n",
      "Printing renamed column df\n",
      "   C1  C2  B3  C4\n",
      "0   1   6   7   7\n",
      "1   2   7   9   5\n",
      "2   3   5   8   2\n",
      "3   5   4   6   8\n",
      "4   5   8   5   8\n",
      "\n",
      " Adding a new null column[sum] in df\n",
      "   C1  C2  B3  C4   Sum\n",
      "0   1   6   7   7  None\n",
      "1   2   7   9   5  None\n",
      "2   3   5   8   2  None\n",
      "3   5   4   6   8  None\n",
      "4   5   8   5   8  None\n",
      "\n",
      "Taking Sum in sum column\n",
      "   C1  C2  B3  C4 Sum\n",
      "0   1   6   7   7  21\n",
      "1   2   7   9   5  23\n",
      "2   3   5   8   2  18\n",
      "3   5   4   6   8  23\n",
      "4   5   8   5   8  26\n"
     ]
    }
   ],
   "source": [
    "import pandas as pd\n",
    "\n",
    "\"\"\" \n",
    "Task 1: Create a Pandas dataframe named ‘pd’ that contains 5 rows and 4 columns, similar to the one given below:\n",
    "C1 C2 C3 C4\n",
    "1 6 7 7\n",
    "2 7 9 5\n",
    "3 5 8 2\n",
    "5 4 6 8\n",
    "5 8 5 8\n",
    "\n",
    "Print only the first two rows of the dataframe.\n",
    "\"\"\"\n",
    "\n",
    "# Creating the dataframe\n",
    "df = pd.DataFrame([[1,6,7,7], [2,7,9,5], [3,5,8,2], [5,4,6,8], [5,8,5,8]], columns=['C1', 'C2', 'C3', 'C4'])\n",
    "print(df)\n",
    "\n",
    "# Printing only first two rows of df\n",
    "print('\\nPrinting only first 2 rows of df')\n",
    "print(df[:2])\n",
    "\n",
    "\"\"\"\n",
    "Task 2: Print the second column.\n",
    "\"\"\"\n",
    "print('\\nPrinting first 2 columns of df')\n",
    "print(df.iloc[:, 0:2])\n",
    "\n",
    "\"\"\"\n",
    "Task 3: Change the name of the third column from ‘C3’ to ‘B3’.\n",
    "\"\"\"\n",
    "df.rename(columns={'C3': 'B3'}, inplace=True)\n",
    "print('\\nPrinting renamed column df')\n",
    "print(df)\n",
    "\n",
    "\"\"\"\n",
    "Task 4: Add a new column to the dataframe and name it ‘Sum’.\n",
    "\"\"\"\n",
    "print('\\n Adding a new null column[sum] in df')\n",
    "df['Sum'] = None\n",
    "print(df)\n",
    "\n",
    "\"\"\"\n",
    "Task 5: Sum the entries of each row and add the result in the column ‘Sum’. \n",
    "\"\"\"\n",
    "print('\\nTaking Sum in sum column')\n",
    "sums = df.sum(axis=1)\n",
    "df['Sum'] = sums\n",
    "print(df)\n",
    "\n"
   ]
  },
  {
   "cell_type": "code",
   "execution_count": 47,
   "id": "ab5a76bd-6d9d-4b5a-bcef-9ee75df9c4b9",
   "metadata": {},
   "outputs": [
    {
     "name": "stdout",
     "output_type": "stream",
     "text": [
      "    Gender  F_Color     B_Month  Weight\n",
      "0     Male    Black       March      77\n",
      "1     Male      Red       March      72\n",
      "2     Male    Black     October      53\n",
      "3   Female     Blue    February      63\n",
      "4     Male    black    October       80\n",
      "5   Female    Black    december      97\n",
      "6     Male   Orange      August      60\n",
      "7   Female      Red   September      59\n",
      "8     Male     Blue        July      60\n",
      "9     Male     Blue         May      58\n",
      "10  Female      Red    October       60\n",
      "11    Male    Black   September      65\n",
      "12    Male    Green    December      85\n",
      "13    Male    Black       April      72\n",
      "14    Male    Green    January       90\n",
      "15    Male   Yellow   November       90\n",
      "16    Male    Black      August      54\n",
      "17    Male    Black     January      82\n",
      "18    Male  Mustard   December       60\n",
      "19  Female    Black    October       76\n",
      "20    Male    Black   February       67\n",
      "21    Male   Yellow       April      74\n",
      "22    Male      Red  September       66\n"
     ]
    }
   ],
   "source": [
    "\"\"\"\n",
    "Task 6: Read CSV file named ‘hello_sample.csv’ (the file is available in the class Google Drive shared folder) into a Pandas\n",
    "dataframe.\n",
    "\"\"\"\n",
    "\n",
    "# Read the dataframe file\n",
    "dataframe = pd.read_csv(\"./hello_sample.csv\")\n",
    "\n",
    "\"\"\"\n",
    "Task 7: Print complete dataframe.\n",
    "\"\"\"\n",
    "print(dataframe)"
   ]
  },
  {
   "cell_type": "code",
   "execution_count": 82,
   "id": "7724e97a-3ab0-4b30-9e7f-d9bfe591f7a7",
   "metadata": {},
   "outputs": [
    {
     "name": "stdout",
     "output_type": "stream",
     "text": [
      "Printing last 2 rows of dataframe\n",
      "    Gender F_Color     B_Month  Weight\n",
      "21   Male  Yellow       April      74\n",
      "22   Male     Red  September       66\n",
      "\n",
      "Printing dataframe info: \n",
      "\n",
      "<class 'pandas.core.frame.DataFrame'>\n",
      "RangeIndex: 23 entries, 0 to 22\n",
      "Data columns (total 4 columns):\n",
      " #   Column   Non-Null Count  Dtype \n",
      "---  ------   --------------  ----- \n",
      " 0   Gender   23 non-null     object\n",
      " 1   F_Color  23 non-null     object\n",
      " 2   B_Month  23 non-null     object\n",
      " 3   Weight   23 non-null     int64 \n",
      "dtypes: int64(1), object(3)\n",
      "memory usage: 868.0+ bytes\n",
      "\n",
      "Printing shape of dataframe: (23, 4)\n",
      "\n",
      " Printing sorted dataframe\n",
      "    Gender  F_Color     B_Month  Weight\n",
      "0     Male    Black       March      77\n",
      "1     Male      Red       March      72\n",
      "2     Male    Black     October      53\n",
      "3   Female     Blue    February      63\n",
      "4     Male    black    October       80\n",
      "5   Female    Black    december      97\n",
      "6     Male   Orange      August      60\n",
      "7   Female      Red   September      59\n",
      "8     Male     Blue        July      60\n",
      "9     Male     Blue         May      58\n",
      "10  Female      Red    October       60\n",
      "11    Male    Black   September      65\n",
      "12    Male    Green    December      85\n",
      "13    Male    Black       April      72\n",
      "14    Male    Green    January       90\n",
      "15    Male   Yellow   November       90\n",
      "16    Male    Black      August      54\n",
      "17    Male    Black     January      82\n",
      "18    Male  Mustard   December       60\n",
      "19  Female    Black    October       76\n",
      "20    Male    Black   February       67\n",
      "21    Male   Yellow       April      74\n",
      "22    Male      Red  September       66\n",
      "    Gender  F_Color     B_Month  Weight\n",
      "0     Male    Black       March      77\n",
      "1     Male      Red       March      72\n",
      "2     Male    Black     October      53\n",
      "3   Female     Blue    February      63\n",
      "4     Male    black    October       80\n",
      "5   Female    Black    december      97\n",
      "6     Male   Orange      August      60\n",
      "7   Female      Red   September      59\n",
      "8     Male     Blue        July      60\n",
      "9     Male     Blue         May      58\n",
      "10  Female      Red    October       60\n",
      "11    Male    Black   September      65\n",
      "12    Male    Green    December      85\n",
      "13    Male    Black       April      72\n",
      "14    Male    Green    January       90\n",
      "15    Male   Yellow   November       90\n",
      "16    Male    Black      August      54\n",
      "17    Male    Black     January      82\n",
      "18    Male  Mustard   December       60\n",
      "19  Female    Black    October       76\n",
      "20    Male    Black   February       67\n",
      "21    Male   Yellow       April      74\n",
      "22    Male      Red  September       66\n",
      "    Gender  F_Color     B_Month  Weight\n",
      "0     Male    Black       March      77\n",
      "1     Male      Red       March      72\n",
      "2     Male    Black     October      53\n",
      "3   Female     Blue    February      63\n",
      "4     Male    black    October       80\n",
      "5   Female    Black    december      97\n",
      "6     Male   Orange      August      60\n",
      "7   Female      Red   September      59\n",
      "8     Male     Blue        July      60\n",
      "9     Male     Blue         May      58\n",
      "10  Female      Red    October       60\n",
      "11    Male    Black   September      65\n",
      "12    Male    Green    December      85\n",
      "13    Male    Black       April      72\n",
      "14    Male    Green    January       90\n",
      "15    Male   Yellow   November       90\n",
      "16    Male    Black      August      54\n",
      "17    Male    Black     January      82\n",
      "18    Male  Mustard   December       60\n",
      "19  Female    Black    October       76\n",
      "20    Male    Black   February       67\n",
      "21    Male   Yellow       April      74\n",
      "22    Male      Red  September       66\n"
     ]
    }
   ],
   "source": [
    "\"\"\"\n",
    "Task 8: Print only bottom 2 records of the dataframe. \n",
    "\"\"\"\n",
    "print(f'Printing last 2 rows of dataframe\\n {dataframe.tail(2)}')\n",
    "\n",
    "\n",
    "\"\"\"\n",
    "Task 9: Print information about the dataframe. \n",
    "\"\"\"\n",
    "\n",
    "print(f'\\nPrinting dataframe info: \\n')\n",
    "dataframe.info()\n",
    "\n",
    "\n",
    "\"\"\"\n",
    "Task 10: Print shape (rows x columns) of the dataframe.\n",
    "\"\"\"\n",
    "print(f'\\nPrinting shape of dataframe: {dataframe.shape}')\n",
    "\n",
    "\"\"\"\n",
    "Task 11: Sort the data of the dataFrame using column ‘Weight’.\n",
    "\"\"\"\n",
    "dataframe.sort_values(by=['Weight'])\n",
    "print(f'\\n Printing sorted dataframe\\n{dataframe}')\n",
    "\n",
    "\"\"\"\n",
    "Task 12: Use isnull() and dropna() methods of the Pandas dataframe and see if they produce any changes.\n",
    "\"\"\"\n",
    "df_null = dataframe.isnull()\n",
    "df_null\n",
    "\n",
    "df_dropna = dataframe.dropna()\n",
    "\n",
    "print(dataframe)\n",
    "print(df_dropna)"
   ]
  },
  {
   "cell_type": "code",
   "execution_count": null,
   "id": "f78c5c22-3092-42bc-9ee3-f3296f8ca4e6",
   "metadata": {},
   "outputs": [],
   "source": [
    "\"\"\"\n",
    "isnull() shows the null data. but it shows all False in values means there is no null data in the dataframe.\n",
    "There is no difference when dropna() is called. As this function drops null data from dataframe. There was no null data in the dataframe.\n",
    "So there is no difference of before and after the application of dropna function.\n",
    "\"\"\""
   ]
  }
 ],
 "metadata": {
  "kernelspec": {
   "display_name": "Python 3 (ipykernel)",
   "language": "python",
   "name": "python3"
  },
  "language_info": {
   "codemirror_mode": {
    "name": "ipython",
    "version": 3
   },
   "file_extension": ".py",
   "mimetype": "text/x-python",
   "name": "python",
   "nbconvert_exporter": "python",
   "pygments_lexer": "ipython3",
   "version": "3.12.4"
  }
 },
 "nbformat": 4,
 "nbformat_minor": 5
}
