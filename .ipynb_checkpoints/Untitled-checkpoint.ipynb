{
 "cells": [
  {
   "cell_type": "code",
   "execution_count": 12,
   "id": "368af198-2d0c-48a7-8993-5ec4f407fd93",
   "metadata": {},
   "outputs": [
    {
     "data": {
      "text/plain": [
       "[27, 125, 343, 512, 1728]"
      ]
     },
     "execution_count": 12,
     "metadata": {},
     "output_type": "execute_result"
    }
   ],
   "source": [
    "\"\"\" Task 1: Creaye a list: nums = [3, 5, 7, 8, 12], make another list named ‘cubes’ and append the cubes of the given list ‘nums’\n",
    "in this list and print it.\"\"\"\n",
    "\n",
    "# Declaring a list\n",
    "nums = [3, 5, 7, 8, 12]\n",
    "\n",
    "# Making cubes\n",
    "nums = [x**3 for x in nums]\n",
    "nums"
   ]
  },
  {
   "cell_type": "code",
   "execution_count": 19,
   "id": "2610ea49-6183-44f5-9c90-2a9ec977e1d9",
   "metadata": {},
   "outputs": [
    {
     "data": {
      "text/plain": [
       "{'parrot': 2, 'goat': 4, 'spider': 8, 'crab': 10}"
      ]
     },
     "execution_count": 19,
     "metadata": {},
     "output_type": "execute_result"
    }
   ],
   "source": [
    "\"\"\"\n",
    "Task 2: Create an empty dictionary: dict = {}, add the following data to the dictionary: ‘parrot’: 2, ‘goat’: 4, ‘spider’: 8, ‘crab’:\n",
    "10 as key value pairs.\n",
    "\"\"\"\n",
    "\n",
    "# Declaring empty dict\n",
    "animals_legs = dict()\n",
    "\n",
    "# Defining data dict\n",
    "animals, legs = ['parrot', 'goat', 'spider', 'crab'], [2, 4, 8, 10]\n",
    "\n",
    "# Overwriting animal_legs dict with data\n",
    "animal_legs = dict(zip(animals, legs))\n",
    "animal_legs\n"
   ]
  },
  {
   "cell_type": "code",
   "execution_count": 21,
   "id": "3a9e9df8-d851-4993-b955-3dc56ef53d33",
   "metadata": {},
   "outputs": [
    {
     "name": "stdout",
     "output_type": "stream",
     "text": [
      "animal: parrot has 2 legs\n",
      "animal: goat has 4 legs\n",
      "animal: spider has 8 legs\n",
      "animal: crab has 10 legs\n",
      "Total legs count: 24\n"
     ]
    }
   ],
   "source": [
    "import sys\n",
    "stdout = sys.stdout\n",
    "\n",
    "\"\"\"\n",
    "Task 3: Use the ‘items’ method to loop over the dictionary (dict) and print the animals and their corresponding legs. Sum\n",
    "the legs of each animal, and print the total at the end.\n",
    "\"\"\"\n",
    "\n",
    "# Declaring dict and count\n",
    "animals_legs = {'parrot': 2, 'goat': 4, 'spider': 8, 'crab': 10}\n",
    "count = 0\n",
    "\n",
    "for _ in animals_legs.items():\n",
    "    print(f'animal: {_[0]} has {_[1]} legs')\n",
    "    count += _[1]\n",
    "\n",
    "print(f'Total legs count: {count}')"
   ]
  },
  {
   "cell_type": "code",
   "execution_count": 26,
   "id": "ce38bfbe-1acb-4d97-a071-5746eb6f110f",
   "metadata": {},
   "outputs": [
    {
     "name": "stdout",
     "output_type": "stream",
     "text": [
      "(3, 9, 4, [8, 6])\n"
     ]
    }
   ],
   "source": [
    "\"\"\"\n",
    "Task 4: Create a tuple: A = (3, 9, 4, [5, 6]), change the value in the list from ‘5’ to ‘8’.\n",
    "\"\"\"\n",
    "\n",
    "A = (3, 9, 4, [5, 6])\n",
    "A[-1][0] = 8\n",
    "print(A)\n",
    "\n",
    "\"\"\"\n",
    "Task 5: Delete the tuple A.\n",
    "\"\"\"\n",
    "del(A)"
   ]
  },
  {
   "cell_type": "code",
   "execution_count": 32,
   "id": "1e7f4959-c73a-4858-8e2f-60cde14f6f1c",
   "metadata": {},
   "outputs": [
    {
     "name": "stdout",
     "output_type": "stream",
     "text": [
      "\"p\" occurred 2 times\n",
      "the index of \"l\" in B is: 3\n"
     ]
    }
   ],
   "source": [
    "\"\"\"\n",
    "Task 6: Create another tuple: B = (‘a’, ‘p’, ‘p’, ‘l’, ‘e’), print the number of occurrences of ‘p’ in the tuple.\n",
    "\"\"\"\n",
    "B = ('a', 'p', 'p', 'l', 'e')\n",
    "print(f'\"p\" occurred {B.count(\"p\")} times')\n",
    "\n",
    "\"\"\"\n",
    "Task 7: Print the index of ‘l’ in the tuple.\n",
    "\"\"\"\n",
    "print(f'the index of \"l\" in B is: {B.index(\"l\")}')"
   ]
  }
 ],
 "metadata": {
  "kernelspec": {
   "display_name": "Python 3 (ipykernel)",
   "language": "python",
   "name": "python3"
  },
  "language_info": {
   "codemirror_mode": {
    "name": "ipython",
    "version": 3
   },
   "file_extension": ".py",
   "mimetype": "text/x-python",
   "name": "python",
   "nbconvert_exporter": "python",
   "pygments_lexer": "ipython3",
   "version": "3.12.4"
  }
 },
 "nbformat": 4,
 "nbformat_minor": 5
}
